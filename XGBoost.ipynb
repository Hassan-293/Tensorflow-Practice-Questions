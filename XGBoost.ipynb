{
  "nbformat": 4,
  "nbformat_minor": 0,
  "metadata": {
    "colab": {
      "provenance": [],
      "gpuType": "T4",
      "authorship_tag": "ABX9TyMUwcDFX7BI8u8zpG70f/8d",
      "include_colab_link": true
    },
    "kernelspec": {
      "name": "python3",
      "display_name": "Python 3"
    },
    "language_info": {
      "name": "python"
    },
    "accelerator": "GPU"
  },
  "cells": [
    {
      "cell_type": "markdown",
      "metadata": {
        "id": "view-in-github",
        "colab_type": "text"
      },
      "source": [
        "<a href=\"https://colab.research.google.com/github/Hassan-293/Tensorflow-Practice-Questions/blob/main/XGBoost.ipynb\" target=\"_parent\"><img src=\"https://colab.research.google.com/assets/colab-badge.svg\" alt=\"Open In Colab\"/></a>"
      ]
    },
    {
      "cell_type": "code",
      "execution_count": 1,
      "metadata": {
        "id": "bkiGm9r-J4p5"
      },
      "outputs": [],
      "source": [
        "import pandas as pd\n",
        "import numpy as np\n",
        "import matplotlib.pyplot as plt\n",
        "import seaborn as sns\n",
        "%matplotlib inline"
      ]
    },
    {
      "cell_type": "code",
      "source": [
        "import warnings\n",
        "\n",
        "warnings.filterwarnings('ignore')"
      ],
      "metadata": {
        "id": "Fkea9oplKT4z"
      },
      "execution_count": 2,
      "outputs": []
    },
    {
      "cell_type": "code",
      "source": [
        "df = pd.read_csv(\"/content/diamonds.csv\")"
      ],
      "metadata": {
        "id": "8Ffl-WctKWuX"
      },
      "execution_count": 3,
      "outputs": []
    },
    {
      "cell_type": "code",
      "source": [
        "df.shape"
      ],
      "metadata": {
        "colab": {
          "base_uri": "https://localhost:8080/"
        },
        "id": "Qk-E0kaZLNKP",
        "outputId": "48101a17-fd5e-41e8-d946-77888aa8c477"
      },
      "execution_count": 4,
      "outputs": [
        {
          "output_type": "execute_result",
          "data": {
            "text/plain": [
              "(53940, 11)"
            ]
          },
          "metadata": {},
          "execution_count": 4
        }
      ]
    },
    {
      "cell_type": "code",
      "source": [
        "df.describe"
      ],
      "metadata": {
        "colab": {
          "base_uri": "https://localhost:8080/"
        },
        "id": "CZMvG1YSLUP1",
        "outputId": "94f8a71f-5a0d-4d7b-98ea-d5e1f1784bab"
      },
      "execution_count": 7,
      "outputs": [
        {
          "output_type": "execute_result",
          "data": {
            "text/plain": [
              "<bound method NDFrame.describe of        Unnamed: 0  carat        cut color clarity  depth  table  price     x  \\\n",
              "0               1   0.23      Ideal     E     SI2   61.5   55.0    326  3.95   \n",
              "1               2   0.21    Premium     E     SI1   59.8   61.0    326  3.89   \n",
              "2               3   0.23       Good     E     VS1   56.9   65.0    327  4.05   \n",
              "3               4   0.29    Premium     I     VS2   62.4   58.0    334  4.20   \n",
              "4               5   0.31       Good     J     SI2   63.3   58.0    335  4.34   \n",
              "...           ...    ...        ...   ...     ...    ...    ...    ...   ...   \n",
              "53935       53936   0.72      Ideal     D     SI1   60.8   57.0   2757  5.75   \n",
              "53936       53937   0.72       Good     D     SI1   63.1   55.0   2757  5.69   \n",
              "53937       53938   0.70  Very Good     D     SI1   62.8   60.0   2757  5.66   \n",
              "53938       53939   0.86    Premium     H     SI2   61.0   58.0   2757  6.15   \n",
              "53939       53940   0.75      Ideal     D     SI2   62.2   55.0   2757  5.83   \n",
              "\n",
              "          y     z  \n",
              "0      3.98  2.43  \n",
              "1      3.84  2.31  \n",
              "2      4.07  2.31  \n",
              "3      4.23  2.63  \n",
              "4      4.35  2.75  \n",
              "...     ...   ...  \n",
              "53935  5.76  3.50  \n",
              "53936  5.75  3.61  \n",
              "53937  5.68  3.56  \n",
              "53938  6.12  3.74  \n",
              "53939  5.87  3.64  \n",
              "\n",
              "[53940 rows x 11 columns]>"
            ]
          },
          "metadata": {},
          "execution_count": 7
        }
      ]
    },
    {
      "cell_type": "code",
      "source": [
        "df.info()\n"
      ],
      "metadata": {
        "colab": {
          "base_uri": "https://localhost:8080/"
        },
        "id": "5_gZlULFLcFH",
        "outputId": "50f9d3a0-d547-4e16-afa3-30e293db0749"
      },
      "execution_count": 8,
      "outputs": [
        {
          "output_type": "stream",
          "name": "stdout",
          "text": [
            "<class 'pandas.core.frame.DataFrame'>\n",
            "RangeIndex: 53940 entries, 0 to 53939\n",
            "Data columns (total 11 columns):\n",
            " #   Column      Non-Null Count  Dtype  \n",
            "---  ------      --------------  -----  \n",
            " 0   Unnamed: 0  53940 non-null  int64  \n",
            " 1   carat       53940 non-null  float64\n",
            " 2   cut         53940 non-null  object \n",
            " 3   color       53940 non-null  object \n",
            " 4   clarity     53940 non-null  object \n",
            " 5   depth       53940 non-null  float64\n",
            " 6   table       53940 non-null  float64\n",
            " 7   price       53940 non-null  int64  \n",
            " 8   x           53940 non-null  float64\n",
            " 9   y           53940 non-null  float64\n",
            " 10  z           53940 non-null  float64\n",
            "dtypes: float64(6), int64(2), object(3)\n",
            "memory usage: 4.5+ MB\n"
          ]
        }
      ]
    },
    {
      "cell_type": "code",
      "source": [
        "df.isnull().sum()\n"
      ],
      "metadata": {
        "colab": {
          "base_uri": "https://localhost:8080/"
        },
        "id": "2aawMSbyLqHp",
        "outputId": "897ff484-1e6b-4acf-8b63-a577e754de2b"
      },
      "execution_count": 9,
      "outputs": [
        {
          "output_type": "execute_result",
          "data": {
            "text/plain": [
              "Unnamed: 0    0\n",
              "carat         0\n",
              "cut           0\n",
              "color         0\n",
              "clarity       0\n",
              "depth         0\n",
              "table         0\n",
              "price         0\n",
              "x             0\n",
              "y             0\n",
              "z             0\n",
              "dtype: int64"
            ]
          },
          "metadata": {},
          "execution_count": 9
        }
      ]
    },
    {
      "cell_type": "code",
      "source": [
        "from sklearn.model_selection import train_test_split\n",
        "\n",
        "# Extract feature and target arrays\n",
        "X, y = df.drop('price', axis=1), df[['price']]"
      ],
      "metadata": {
        "id": "aU15_f70LyrL"
      },
      "execution_count": 12,
      "outputs": []
    },
    {
      "cell_type": "code",
      "source": [
        "X.head()"
      ],
      "metadata": {
        "colab": {
          "base_uri": "https://localhost:8080/",
          "height": 206
        },
        "id": "G5QTh5uDMYxn",
        "outputId": "e098a759-582c-4719-e88e-c864cfeb4886"
      },
      "execution_count": 13,
      "outputs": [
        {
          "output_type": "execute_result",
          "data": {
            "text/plain": [
              "   Unnamed: 0  carat      cut color clarity  depth  table     x     y     z\n",
              "0           1   0.23    Ideal     E     SI2   61.5   55.0  3.95  3.98  2.43\n",
              "1           2   0.21  Premium     E     SI1   59.8   61.0  3.89  3.84  2.31\n",
              "2           3   0.23     Good     E     VS1   56.9   65.0  4.05  4.07  2.31\n",
              "3           4   0.29  Premium     I     VS2   62.4   58.0  4.20  4.23  2.63\n",
              "4           5   0.31     Good     J     SI2   63.3   58.0  4.34  4.35  2.75"
            ],
            "text/html": [
              "\n",
              "\n",
              "  <div id=\"df-2e3dcaf8-b100-4601-b708-66139ad4607c\">\n",
              "    <div class=\"colab-df-container\">\n",
              "      <div>\n",
              "<style scoped>\n",
              "    .dataframe tbody tr th:only-of-type {\n",
              "        vertical-align: middle;\n",
              "    }\n",
              "\n",
              "    .dataframe tbody tr th {\n",
              "        vertical-align: top;\n",
              "    }\n",
              "\n",
              "    .dataframe thead th {\n",
              "        text-align: right;\n",
              "    }\n",
              "</style>\n",
              "<table border=\"1\" class=\"dataframe\">\n",
              "  <thead>\n",
              "    <tr style=\"text-align: right;\">\n",
              "      <th></th>\n",
              "      <th>Unnamed: 0</th>\n",
              "      <th>carat</th>\n",
              "      <th>cut</th>\n",
              "      <th>color</th>\n",
              "      <th>clarity</th>\n",
              "      <th>depth</th>\n",
              "      <th>table</th>\n",
              "      <th>x</th>\n",
              "      <th>y</th>\n",
              "      <th>z</th>\n",
              "    </tr>\n",
              "  </thead>\n",
              "  <tbody>\n",
              "    <tr>\n",
              "      <th>0</th>\n",
              "      <td>1</td>\n",
              "      <td>0.23</td>\n",
              "      <td>Ideal</td>\n",
              "      <td>E</td>\n",
              "      <td>SI2</td>\n",
              "      <td>61.5</td>\n",
              "      <td>55.0</td>\n",
              "      <td>3.95</td>\n",
              "      <td>3.98</td>\n",
              "      <td>2.43</td>\n",
              "    </tr>\n",
              "    <tr>\n",
              "      <th>1</th>\n",
              "      <td>2</td>\n",
              "      <td>0.21</td>\n",
              "      <td>Premium</td>\n",
              "      <td>E</td>\n",
              "      <td>SI1</td>\n",
              "      <td>59.8</td>\n",
              "      <td>61.0</td>\n",
              "      <td>3.89</td>\n",
              "      <td>3.84</td>\n",
              "      <td>2.31</td>\n",
              "    </tr>\n",
              "    <tr>\n",
              "      <th>2</th>\n",
              "      <td>3</td>\n",
              "      <td>0.23</td>\n",
              "      <td>Good</td>\n",
              "      <td>E</td>\n",
              "      <td>VS1</td>\n",
              "      <td>56.9</td>\n",
              "      <td>65.0</td>\n",
              "      <td>4.05</td>\n",
              "      <td>4.07</td>\n",
              "      <td>2.31</td>\n",
              "    </tr>\n",
              "    <tr>\n",
              "      <th>3</th>\n",
              "      <td>4</td>\n",
              "      <td>0.29</td>\n",
              "      <td>Premium</td>\n",
              "      <td>I</td>\n",
              "      <td>VS2</td>\n",
              "      <td>62.4</td>\n",
              "      <td>58.0</td>\n",
              "      <td>4.20</td>\n",
              "      <td>4.23</td>\n",
              "      <td>2.63</td>\n",
              "    </tr>\n",
              "    <tr>\n",
              "      <th>4</th>\n",
              "      <td>5</td>\n",
              "      <td>0.31</td>\n",
              "      <td>Good</td>\n",
              "      <td>J</td>\n",
              "      <td>SI2</td>\n",
              "      <td>63.3</td>\n",
              "      <td>58.0</td>\n",
              "      <td>4.34</td>\n",
              "      <td>4.35</td>\n",
              "      <td>2.75</td>\n",
              "    </tr>\n",
              "  </tbody>\n",
              "</table>\n",
              "</div>\n",
              "      <button class=\"colab-df-convert\" onclick=\"convertToInteractive('df-2e3dcaf8-b100-4601-b708-66139ad4607c')\"\n",
              "              title=\"Convert this dataframe to an interactive table.\"\n",
              "              style=\"display:none;\">\n",
              "\n",
              "  <svg xmlns=\"http://www.w3.org/2000/svg\" height=\"24px\"viewBox=\"0 0 24 24\"\n",
              "       width=\"24px\">\n",
              "    <path d=\"M0 0h24v24H0V0z\" fill=\"none\"/>\n",
              "    <path d=\"M18.56 5.44l.94 2.06.94-2.06 2.06-.94-2.06-.94-.94-2.06-.94 2.06-2.06.94zm-11 1L8.5 8.5l.94-2.06 2.06-.94-2.06-.94L8.5 2.5l-.94 2.06-2.06.94zm10 10l.94 2.06.94-2.06 2.06-.94-2.06-.94-.94-2.06-.94 2.06-2.06.94z\"/><path d=\"M17.41 7.96l-1.37-1.37c-.4-.4-.92-.59-1.43-.59-.52 0-1.04.2-1.43.59L10.3 9.45l-7.72 7.72c-.78.78-.78 2.05 0 2.83L4 21.41c.39.39.9.59 1.41.59.51 0 1.02-.2 1.41-.59l7.78-7.78 2.81-2.81c.8-.78.8-2.07 0-2.86zM5.41 20L4 18.59l7.72-7.72 1.47 1.35L5.41 20z\"/>\n",
              "  </svg>\n",
              "      </button>\n",
              "\n",
              "\n",
              "\n",
              "    <div id=\"df-59ae04c7-e421-4e3e-a9d2-e01277d944a0\">\n",
              "      <button class=\"colab-df-quickchart\" onclick=\"quickchart('df-59ae04c7-e421-4e3e-a9d2-e01277d944a0')\"\n",
              "              title=\"Suggest charts.\"\n",
              "              style=\"display:none;\">\n",
              "\n",
              "<svg xmlns=\"http://www.w3.org/2000/svg\" height=\"24px\"viewBox=\"0 0 24 24\"\n",
              "     width=\"24px\">\n",
              "    <g>\n",
              "        <path d=\"M19 3H5c-1.1 0-2 .9-2 2v14c0 1.1.9 2 2 2h14c1.1 0 2-.9 2-2V5c0-1.1-.9-2-2-2zM9 17H7v-7h2v7zm4 0h-2V7h2v10zm4 0h-2v-4h2v4z\"/>\n",
              "    </g>\n",
              "</svg>\n",
              "      </button>\n",
              "    </div>\n",
              "\n",
              "<style>\n",
              "  .colab-df-quickchart {\n",
              "    background-color: #E8F0FE;\n",
              "    border: none;\n",
              "    border-radius: 50%;\n",
              "    cursor: pointer;\n",
              "    display: none;\n",
              "    fill: #1967D2;\n",
              "    height: 32px;\n",
              "    padding: 0 0 0 0;\n",
              "    width: 32px;\n",
              "  }\n",
              "\n",
              "  .colab-df-quickchart:hover {\n",
              "    background-color: #E2EBFA;\n",
              "    box-shadow: 0px 1px 2px rgba(60, 64, 67, 0.3), 0px 1px 3px 1px rgba(60, 64, 67, 0.15);\n",
              "    fill: #174EA6;\n",
              "  }\n",
              "\n",
              "  [theme=dark] .colab-df-quickchart {\n",
              "    background-color: #3B4455;\n",
              "    fill: #D2E3FC;\n",
              "  }\n",
              "\n",
              "  [theme=dark] .colab-df-quickchart:hover {\n",
              "    background-color: #434B5C;\n",
              "    box-shadow: 0px 1px 3px 1px rgba(0, 0, 0, 0.15);\n",
              "    filter: drop-shadow(0px 1px 2px rgba(0, 0, 0, 0.3));\n",
              "    fill: #FFFFFF;\n",
              "  }\n",
              "</style>\n",
              "\n",
              "    <script>\n",
              "      async function quickchart(key) {\n",
              "        const containerElement = document.querySelector('#' + key);\n",
              "        const charts = await google.colab.kernel.invokeFunction(\n",
              "            'suggestCharts', [key], {});\n",
              "      }\n",
              "    </script>\n",
              "\n",
              "      <script>\n",
              "\n",
              "function displayQuickchartButton(domScope) {\n",
              "  let quickchartButtonEl =\n",
              "    domScope.querySelector('#df-59ae04c7-e421-4e3e-a9d2-e01277d944a0 button.colab-df-quickchart');\n",
              "  quickchartButtonEl.style.display =\n",
              "    google.colab.kernel.accessAllowed ? 'block' : 'none';\n",
              "}\n",
              "\n",
              "        displayQuickchartButton(document);\n",
              "      </script>\n",
              "      <style>\n",
              "    .colab-df-container {\n",
              "      display:flex;\n",
              "      flex-wrap:wrap;\n",
              "      gap: 12px;\n",
              "    }\n",
              "\n",
              "    .colab-df-convert {\n",
              "      background-color: #E8F0FE;\n",
              "      border: none;\n",
              "      border-radius: 50%;\n",
              "      cursor: pointer;\n",
              "      display: none;\n",
              "      fill: #1967D2;\n",
              "      height: 32px;\n",
              "      padding: 0 0 0 0;\n",
              "      width: 32px;\n",
              "    }\n",
              "\n",
              "    .colab-df-convert:hover {\n",
              "      background-color: #E2EBFA;\n",
              "      box-shadow: 0px 1px 2px rgba(60, 64, 67, 0.3), 0px 1px 3px 1px rgba(60, 64, 67, 0.15);\n",
              "      fill: #174EA6;\n",
              "    }\n",
              "\n",
              "    [theme=dark] .colab-df-convert {\n",
              "      background-color: #3B4455;\n",
              "      fill: #D2E3FC;\n",
              "    }\n",
              "\n",
              "    [theme=dark] .colab-df-convert:hover {\n",
              "      background-color: #434B5C;\n",
              "      box-shadow: 0px 1px 3px 1px rgba(0, 0, 0, 0.15);\n",
              "      filter: drop-shadow(0px 1px 2px rgba(0, 0, 0, 0.3));\n",
              "      fill: #FFFFFF;\n",
              "    }\n",
              "  </style>\n",
              "\n",
              "      <script>\n",
              "        const buttonEl =\n",
              "          document.querySelector('#df-2e3dcaf8-b100-4601-b708-66139ad4607c button.colab-df-convert');\n",
              "        buttonEl.style.display =\n",
              "          google.colab.kernel.accessAllowed ? 'block' : 'none';\n",
              "\n",
              "        async function convertToInteractive(key) {\n",
              "          const element = document.querySelector('#df-2e3dcaf8-b100-4601-b708-66139ad4607c');\n",
              "          const dataTable =\n",
              "            await google.colab.kernel.invokeFunction('convertToInteractive',\n",
              "                                                     [key], {});\n",
              "          if (!dataTable) return;\n",
              "\n",
              "          const docLinkHtml = 'Like what you see? Visit the ' +\n",
              "            '<a target=\"_blank\" href=https://colab.research.google.com/notebooks/data_table.ipynb>data table notebook</a>'\n",
              "            + ' to learn more about interactive tables.';\n",
              "          element.innerHTML = '';\n",
              "          dataTable['output_type'] = 'display_data';\n",
              "          await google.colab.output.renderOutput(dataTable, element);\n",
              "          const docLink = document.createElement('div');\n",
              "          docLink.innerHTML = docLinkHtml;\n",
              "          element.appendChild(docLink);\n",
              "        }\n",
              "      </script>\n",
              "    </div>\n",
              "  </div>\n"
            ]
          },
          "metadata": {},
          "execution_count": 13
        }
      ]
    },
    {
      "cell_type": "code",
      "source": [
        "y.head()"
      ],
      "metadata": {
        "colab": {
          "base_uri": "https://localhost:8080/",
          "height": 206
        },
        "id": "p8iol3rUMcma",
        "outputId": "d65e559b-d897-45bc-da9a-4daa2bb9ae19"
      },
      "execution_count": 14,
      "outputs": [
        {
          "output_type": "execute_result",
          "data": {
            "text/plain": [
              "   price\n",
              "0    326\n",
              "1    326\n",
              "2    327\n",
              "3    334\n",
              "4    335"
            ],
            "text/html": [
              "\n",
              "\n",
              "  <div id=\"df-7f4467ea-313e-4b47-9e91-b8db32ab885b\">\n",
              "    <div class=\"colab-df-container\">\n",
              "      <div>\n",
              "<style scoped>\n",
              "    .dataframe tbody tr th:only-of-type {\n",
              "        vertical-align: middle;\n",
              "    }\n",
              "\n",
              "    .dataframe tbody tr th {\n",
              "        vertical-align: top;\n",
              "    }\n",
              "\n",
              "    .dataframe thead th {\n",
              "        text-align: right;\n",
              "    }\n",
              "</style>\n",
              "<table border=\"1\" class=\"dataframe\">\n",
              "  <thead>\n",
              "    <tr style=\"text-align: right;\">\n",
              "      <th></th>\n",
              "      <th>price</th>\n",
              "    </tr>\n",
              "  </thead>\n",
              "  <tbody>\n",
              "    <tr>\n",
              "      <th>0</th>\n",
              "      <td>326</td>\n",
              "    </tr>\n",
              "    <tr>\n",
              "      <th>1</th>\n",
              "      <td>326</td>\n",
              "    </tr>\n",
              "    <tr>\n",
              "      <th>2</th>\n",
              "      <td>327</td>\n",
              "    </tr>\n",
              "    <tr>\n",
              "      <th>3</th>\n",
              "      <td>334</td>\n",
              "    </tr>\n",
              "    <tr>\n",
              "      <th>4</th>\n",
              "      <td>335</td>\n",
              "    </tr>\n",
              "  </tbody>\n",
              "</table>\n",
              "</div>\n",
              "      <button class=\"colab-df-convert\" onclick=\"convertToInteractive('df-7f4467ea-313e-4b47-9e91-b8db32ab885b')\"\n",
              "              title=\"Convert this dataframe to an interactive table.\"\n",
              "              style=\"display:none;\">\n",
              "\n",
              "  <svg xmlns=\"http://www.w3.org/2000/svg\" height=\"24px\"viewBox=\"0 0 24 24\"\n",
              "       width=\"24px\">\n",
              "    <path d=\"M0 0h24v24H0V0z\" fill=\"none\"/>\n",
              "    <path d=\"M18.56 5.44l.94 2.06.94-2.06 2.06-.94-2.06-.94-.94-2.06-.94 2.06-2.06.94zm-11 1L8.5 8.5l.94-2.06 2.06-.94-2.06-.94L8.5 2.5l-.94 2.06-2.06.94zm10 10l.94 2.06.94-2.06 2.06-.94-2.06-.94-.94-2.06-.94 2.06-2.06.94z\"/><path d=\"M17.41 7.96l-1.37-1.37c-.4-.4-.92-.59-1.43-.59-.52 0-1.04.2-1.43.59L10.3 9.45l-7.72 7.72c-.78.78-.78 2.05 0 2.83L4 21.41c.39.39.9.59 1.41.59.51 0 1.02-.2 1.41-.59l7.78-7.78 2.81-2.81c.8-.78.8-2.07 0-2.86zM5.41 20L4 18.59l7.72-7.72 1.47 1.35L5.41 20z\"/>\n",
              "  </svg>\n",
              "      </button>\n",
              "\n",
              "\n",
              "\n",
              "    <div id=\"df-4ecfecee-0cc3-4998-8ede-8e92569be9b8\">\n",
              "      <button class=\"colab-df-quickchart\" onclick=\"quickchart('df-4ecfecee-0cc3-4998-8ede-8e92569be9b8')\"\n",
              "              title=\"Suggest charts.\"\n",
              "              style=\"display:none;\">\n",
              "\n",
              "<svg xmlns=\"http://www.w3.org/2000/svg\" height=\"24px\"viewBox=\"0 0 24 24\"\n",
              "     width=\"24px\">\n",
              "    <g>\n",
              "        <path d=\"M19 3H5c-1.1 0-2 .9-2 2v14c0 1.1.9 2 2 2h14c1.1 0 2-.9 2-2V5c0-1.1-.9-2-2-2zM9 17H7v-7h2v7zm4 0h-2V7h2v10zm4 0h-2v-4h2v4z\"/>\n",
              "    </g>\n",
              "</svg>\n",
              "      </button>\n",
              "    </div>\n",
              "\n",
              "<style>\n",
              "  .colab-df-quickchart {\n",
              "    background-color: #E8F0FE;\n",
              "    border: none;\n",
              "    border-radius: 50%;\n",
              "    cursor: pointer;\n",
              "    display: none;\n",
              "    fill: #1967D2;\n",
              "    height: 32px;\n",
              "    padding: 0 0 0 0;\n",
              "    width: 32px;\n",
              "  }\n",
              "\n",
              "  .colab-df-quickchart:hover {\n",
              "    background-color: #E2EBFA;\n",
              "    box-shadow: 0px 1px 2px rgba(60, 64, 67, 0.3), 0px 1px 3px 1px rgba(60, 64, 67, 0.15);\n",
              "    fill: #174EA6;\n",
              "  }\n",
              "\n",
              "  [theme=dark] .colab-df-quickchart {\n",
              "    background-color: #3B4455;\n",
              "    fill: #D2E3FC;\n",
              "  }\n",
              "\n",
              "  [theme=dark] .colab-df-quickchart:hover {\n",
              "    background-color: #434B5C;\n",
              "    box-shadow: 0px 1px 3px 1px rgba(0, 0, 0, 0.15);\n",
              "    filter: drop-shadow(0px 1px 2px rgba(0, 0, 0, 0.3));\n",
              "    fill: #FFFFFF;\n",
              "  }\n",
              "</style>\n",
              "\n",
              "    <script>\n",
              "      async function quickchart(key) {\n",
              "        const containerElement = document.querySelector('#' + key);\n",
              "        const charts = await google.colab.kernel.invokeFunction(\n",
              "            'suggestCharts', [key], {});\n",
              "      }\n",
              "    </script>\n",
              "\n",
              "      <script>\n",
              "\n",
              "function displayQuickchartButton(domScope) {\n",
              "  let quickchartButtonEl =\n",
              "    domScope.querySelector('#df-4ecfecee-0cc3-4998-8ede-8e92569be9b8 button.colab-df-quickchart');\n",
              "  quickchartButtonEl.style.display =\n",
              "    google.colab.kernel.accessAllowed ? 'block' : 'none';\n",
              "}\n",
              "\n",
              "        displayQuickchartButton(document);\n",
              "      </script>\n",
              "      <style>\n",
              "    .colab-df-container {\n",
              "      display:flex;\n",
              "      flex-wrap:wrap;\n",
              "      gap: 12px;\n",
              "    }\n",
              "\n",
              "    .colab-df-convert {\n",
              "      background-color: #E8F0FE;\n",
              "      border: none;\n",
              "      border-radius: 50%;\n",
              "      cursor: pointer;\n",
              "      display: none;\n",
              "      fill: #1967D2;\n",
              "      height: 32px;\n",
              "      padding: 0 0 0 0;\n",
              "      width: 32px;\n",
              "    }\n",
              "\n",
              "    .colab-df-convert:hover {\n",
              "      background-color: #E2EBFA;\n",
              "      box-shadow: 0px 1px 2px rgba(60, 64, 67, 0.3), 0px 1px 3px 1px rgba(60, 64, 67, 0.15);\n",
              "      fill: #174EA6;\n",
              "    }\n",
              "\n",
              "    [theme=dark] .colab-df-convert {\n",
              "      background-color: #3B4455;\n",
              "      fill: #D2E3FC;\n",
              "    }\n",
              "\n",
              "    [theme=dark] .colab-df-convert:hover {\n",
              "      background-color: #434B5C;\n",
              "      box-shadow: 0px 1px 3px 1px rgba(0, 0, 0, 0.15);\n",
              "      filter: drop-shadow(0px 1px 2px rgba(0, 0, 0, 0.3));\n",
              "      fill: #FFFFFF;\n",
              "    }\n",
              "  </style>\n",
              "\n",
              "      <script>\n",
              "        const buttonEl =\n",
              "          document.querySelector('#df-7f4467ea-313e-4b47-9e91-b8db32ab885b button.colab-df-convert');\n",
              "        buttonEl.style.display =\n",
              "          google.colab.kernel.accessAllowed ? 'block' : 'none';\n",
              "\n",
              "        async function convertToInteractive(key) {\n",
              "          const element = document.querySelector('#df-7f4467ea-313e-4b47-9e91-b8db32ab885b');\n",
              "          const dataTable =\n",
              "            await google.colab.kernel.invokeFunction('convertToInteractive',\n",
              "                                                     [key], {});\n",
              "          if (!dataTable) return;\n",
              "\n",
              "          const docLinkHtml = 'Like what you see? Visit the ' +\n",
              "            '<a target=\"_blank\" href=https://colab.research.google.com/notebooks/data_table.ipynb>data table notebook</a>'\n",
              "            + ' to learn more about interactive tables.';\n",
              "          element.innerHTML = '';\n",
              "          dataTable['output_type'] = 'display_data';\n",
              "          await google.colab.output.renderOutput(dataTable, element);\n",
              "          const docLink = document.createElement('div');\n",
              "          docLink.innerHTML = docLinkHtml;\n",
              "          element.appendChild(docLink);\n",
              "        }\n",
              "      </script>\n",
              "    </div>\n",
              "  </div>\n"
            ]
          },
          "metadata": {},
          "execution_count": 14
        }
      ]
    },
    {
      "cell_type": "code",
      "source": [
        "# Extract text features\n",
        "cats = X.select_dtypes(exclude=np.number).columns.tolist()"
      ],
      "metadata": {
        "id": "VpYGuvHROJ1D"
      },
      "execution_count": 17,
      "outputs": []
    },
    {
      "cell_type": "code",
      "source": [
        "cats"
      ],
      "metadata": {
        "colab": {
          "base_uri": "https://localhost:8080/"
        },
        "id": "aW-uDtbWOtID",
        "outputId": "60bd3266-2bc1-4cd9-f400-24d56908924b"
      },
      "execution_count": 19,
      "outputs": [
        {
          "output_type": "execute_result",
          "data": {
            "text/plain": [
              "['cut', 'color', 'clarity']"
            ]
          },
          "metadata": {},
          "execution_count": 19
        }
      ]
    },
    {
      "cell_type": "code",
      "source": [
        "\n",
        "# Convert to Pandas category\n",
        "for col in cats:\n",
        "   X[col] = X[col].astype('category')\n",
        "   print(X[col])"
      ],
      "metadata": {
        "colab": {
          "base_uri": "https://localhost:8080/"
        },
        "id": "zabpUpWaMoGI",
        "outputId": "3b279674-e918-4349-90da-9524df157c54"
      },
      "execution_count": 18,
      "outputs": [
        {
          "output_type": "stream",
          "name": "stdout",
          "text": [
            "0            Ideal\n",
            "1          Premium\n",
            "2             Good\n",
            "3          Premium\n",
            "4             Good\n",
            "           ...    \n",
            "53935        Ideal\n",
            "53936         Good\n",
            "53937    Very Good\n",
            "53938      Premium\n",
            "53939        Ideal\n",
            "Name: cut, Length: 53940, dtype: category\n",
            "Categories (5, object): ['Fair', 'Good', 'Ideal', 'Premium', 'Very Good']\n",
            "0        E\n",
            "1        E\n",
            "2        E\n",
            "3        I\n",
            "4        J\n",
            "        ..\n",
            "53935    D\n",
            "53936    D\n",
            "53937    D\n",
            "53938    H\n",
            "53939    D\n",
            "Name: color, Length: 53940, dtype: category\n",
            "Categories (7, object): ['D', 'E', 'F', 'G', 'H', 'I', 'J']\n",
            "0        SI2\n",
            "1        SI1\n",
            "2        VS1\n",
            "3        VS2\n",
            "4        SI2\n",
            "        ... \n",
            "53935    SI1\n",
            "53936    SI1\n",
            "53937    SI1\n",
            "53938    SI2\n",
            "53939    SI2\n",
            "Name: clarity, Length: 53940, dtype: category\n",
            "Categories (8, object): ['I1', 'IF', 'SI1', 'SI2', 'VS1', 'VS2', 'VVS1', 'VVS2']\n"
          ]
        }
      ]
    },
    {
      "cell_type": "code",
      "source": [
        "# Split the data\n",
        "X_train, X_test, y_train, y_test = train_test_split(X, y, random_state=1)"
      ],
      "metadata": {
        "id": "hGvT9eiWPfkK"
      },
      "execution_count": 20,
      "outputs": []
    },
    {
      "cell_type": "code",
      "source": [
        "import xgboost as xgb\n",
        "\n",
        "# Create regression matrices\n",
        "dtrain_reg = xgb.DMatrix(X_train, y_train, enable_categorical=True)\n",
        "dtest_reg = xgb.DMatrix(X_test, y_test, enable_categorical=True)"
      ],
      "metadata": {
        "id": "dozWr3Y-QHfg"
      },
      "execution_count": 21,
      "outputs": []
    },
    {
      "cell_type": "code",
      "source": [
        "# Define hyperparameters\n",
        "params = {\"objective\": \"reg:squarederror\", \"tree_method\": \"gpu_hist\"}"
      ],
      "metadata": {
        "id": "wjy_vkYJQMiY"
      },
      "execution_count": 22,
      "outputs": []
    },
    {
      "cell_type": "code",
      "source": [
        "# Define hyperparameters\n",
        "params = {\"objective\": \"reg:squarederror\", \"tree_method\": \"gpu_hist\"}\n",
        "\n",
        "n = 100\n",
        "model = xgb.train(\n",
        "   params=params,\n",
        "   dtrain=dtrain_reg,\n",
        "   num_boost_round=n,\n",
        ")"
      ],
      "metadata": {
        "id": "JoudOAK6QpNJ"
      },
      "execution_count": 23,
      "outputs": []
    },
    {
      "cell_type": "code",
      "source": [
        "from sklearn.metrics import mean_squared_error\n",
        "\n",
        "preds = model.predict(dtest_reg)"
      ],
      "metadata": {
        "id": "EbKn5oCxQz9C"
      },
      "execution_count": 24,
      "outputs": []
    },
    {
      "cell_type": "code",
      "source": [
        "rmse = mean_squared_error(y_test, preds, squared=False)\n",
        "\n",
        "print(f\"RMSE of the base model: {rmse:.3f}\")"
      ],
      "metadata": {
        "colab": {
          "base_uri": "https://localhost:8080/"
        },
        "id": "MZz75I71RCMy",
        "outputId": "c64537b7-eb61-4472-c9a8-8f4d8311d7ab"
      },
      "execution_count": 26,
      "outputs": [
        {
          "output_type": "stream",
          "name": "stdout",
          "text": [
            "RMSE of the base model: 42.654\n"
          ]
        }
      ]
    },
    {
      "cell_type": "code",
      "source": [
        "params = {\"objective\": \"reg:squarederror\", \"tree_method\": \"gpu_hist\"}\n",
        "n = 100"
      ],
      "metadata": {
        "id": "M5G0PJ4aRINi"
      },
      "execution_count": 27,
      "outputs": []
    },
    {
      "cell_type": "code",
      "source": [
        "evals = [(dtrain_reg, \"train\"), (dtest_reg, \"validation\")]"
      ],
      "metadata": {
        "id": "f7i4pu8kRfa6"
      },
      "execution_count": 28,
      "outputs": []
    },
    {
      "cell_type": "code",
      "source": [
        "evals = [(dtrain_reg, \"train\"), (dtest_reg, \"validation\")]\n",
        "\n",
        "model = xgb.train(\n",
        "   params=params,\n",
        "   dtrain=dtrain_reg,\n",
        "   num_boost_round=n,\n",
        "   evals=evals,\n",
        ")"
      ],
      "metadata": {
        "colab": {
          "base_uri": "https://localhost:8080/"
        },
        "id": "C4CNaWFoRloM",
        "outputId": "c618c415-82d5-49be-8cd6-7b5127cfc179"
      },
      "execution_count": 29,
      "outputs": [
        {
          "output_type": "stream",
          "name": "stdout",
          "text": [
            "[0]\ttrain-rmse:3938.68155\tvalidation-rmse:3886.81385\n",
            "[1]\ttrain-rmse:2760.82164\tvalidation-rmse:2724.20934\n",
            "[2]\ttrain-rmse:1935.57562\tvalidation-rmse:1908.67677\n",
            "[3]\ttrain-rmse:1357.46154\tvalidation-rmse:1338.40694\n",
            "[4]\ttrain-rmse:952.63039\tvalidation-rmse:938.89031\n",
            "[5]\ttrain-rmse:669.37245\tvalidation-rmse:659.13772\n",
            "[6]\ttrain-rmse:471.45067\tvalidation-rmse:463.66706\n",
            "[7]\ttrain-rmse:333.34872\tvalidation-rmse:327.50252\n",
            "[8]\ttrain-rmse:237.50392\tvalidation-rmse:233.00799\n",
            "[9]\ttrain-rmse:171.66783\tvalidation-rmse:168.04099\n",
            "[10]\ttrain-rmse:127.08221\tvalidation-rmse:124.34036\n",
            "[11]\ttrain-rmse:97.60587\tvalidation-rmse:95.36923\n",
            "[12]\ttrain-rmse:78.69947\tvalidation-rmse:76.71299\n",
            "[13]\ttrain-rmse:66.93898\tvalidation-rmse:65.36840\n",
            "[14]\ttrain-rmse:60.05171\tvalidation-rmse:58.95693\n",
            "[15]\ttrain-rmse:56.08468\tvalidation-rmse:55.20986\n",
            "[16]\ttrain-rmse:53.46550\tvalidation-rmse:52.82029\n",
            "[17]\ttrain-rmse:51.43385\tvalidation-rmse:51.14669\n",
            "[18]\ttrain-rmse:50.46262\tvalidation-rmse:50.36928\n",
            "[19]\ttrain-rmse:49.81511\tvalidation-rmse:50.00506\n",
            "[20]\ttrain-rmse:49.00501\tvalidation-rmse:49.28664\n",
            "[21]\ttrain-rmse:48.31677\tvalidation-rmse:48.74828\n",
            "[22]\ttrain-rmse:47.88227\tvalidation-rmse:48.42771\n",
            "[23]\ttrain-rmse:47.18923\tvalidation-rmse:47.87119\n",
            "[24]\ttrain-rmse:46.29489\tvalidation-rmse:47.33091\n",
            "[25]\ttrain-rmse:45.38524\tvalidation-rmse:46.38212\n",
            "[26]\ttrain-rmse:44.91540\tvalidation-rmse:46.16006\n",
            "[27]\ttrain-rmse:44.47022\tvalidation-rmse:45.87876\n",
            "[28]\ttrain-rmse:44.10486\tvalidation-rmse:45.83563\n",
            "[29]\ttrain-rmse:43.49410\tvalidation-rmse:45.39150\n",
            "[30]\ttrain-rmse:43.16797\tvalidation-rmse:45.22569\n",
            "[31]\ttrain-rmse:42.89563\tvalidation-rmse:45.02973\n",
            "[32]\ttrain-rmse:42.35945\tvalidation-rmse:44.83776\n",
            "[33]\ttrain-rmse:42.21235\tvalidation-rmse:44.73469\n",
            "[34]\ttrain-rmse:41.89156\tvalidation-rmse:44.79173\n",
            "[35]\ttrain-rmse:41.63837\tvalidation-rmse:44.74949\n",
            "[36]\ttrain-rmse:41.54553\tvalidation-rmse:44.75873\n",
            "[37]\ttrain-rmse:41.32825\tvalidation-rmse:44.58198\n",
            "[38]\ttrain-rmse:41.16452\tvalidation-rmse:44.62614\n",
            "[39]\ttrain-rmse:41.12551\tvalidation-rmse:44.63254\n",
            "[40]\ttrain-rmse:41.03204\tvalidation-rmse:44.57580\n",
            "[41]\ttrain-rmse:40.95752\tvalidation-rmse:44.51983\n",
            "[42]\ttrain-rmse:40.63939\tvalidation-rmse:44.28244\n",
            "[43]\ttrain-rmse:40.51264\tvalidation-rmse:44.19919\n",
            "[44]\ttrain-rmse:40.43379\tvalidation-rmse:44.15384\n",
            "[45]\ttrain-rmse:40.12397\tvalidation-rmse:43.92118\n",
            "[46]\ttrain-rmse:39.80479\tvalidation-rmse:43.91604\n",
            "[47]\ttrain-rmse:39.73141\tvalidation-rmse:43.92361\n",
            "[48]\ttrain-rmse:39.54076\tvalidation-rmse:43.77929\n",
            "[49]\ttrain-rmse:39.50950\tvalidation-rmse:43.77128\n",
            "[50]\ttrain-rmse:39.29157\tvalidation-rmse:43.75886\n",
            "[51]\ttrain-rmse:39.25545\tvalidation-rmse:43.74301\n",
            "[52]\ttrain-rmse:39.11764\tvalidation-rmse:43.73281\n",
            "[53]\ttrain-rmse:38.98593\tvalidation-rmse:43.62863\n",
            "[54]\ttrain-rmse:38.91634\tvalidation-rmse:43.62109\n",
            "[55]\ttrain-rmse:38.80332\tvalidation-rmse:43.55860\n",
            "[56]\ttrain-rmse:38.73954\tvalidation-rmse:43.54288\n",
            "[57]\ttrain-rmse:38.66506\tvalidation-rmse:43.54777\n",
            "[58]\ttrain-rmse:38.61055\tvalidation-rmse:43.51364\n",
            "[59]\ttrain-rmse:38.50171\tvalidation-rmse:43.52283\n",
            "[60]\ttrain-rmse:38.31618\tvalidation-rmse:43.53215\n",
            "[61]\ttrain-rmse:38.04325\tvalidation-rmse:43.58554\n",
            "[62]\ttrain-rmse:37.84655\tvalidation-rmse:43.44908\n",
            "[63]\ttrain-rmse:37.57150\tvalidation-rmse:43.41523\n",
            "[64]\ttrain-rmse:37.34655\tvalidation-rmse:43.20407\n",
            "[65]\ttrain-rmse:37.17231\tvalidation-rmse:43.24651\n",
            "[66]\ttrain-rmse:37.00166\tvalidation-rmse:43.13925\n",
            "[67]\ttrain-rmse:36.89389\tvalidation-rmse:43.09615\n",
            "[68]\ttrain-rmse:36.86290\tvalidation-rmse:43.08804\n",
            "[69]\ttrain-rmse:36.71829\tvalidation-rmse:43.08089\n",
            "[70]\ttrain-rmse:36.59976\tvalidation-rmse:42.99924\n",
            "[71]\ttrain-rmse:36.39607\tvalidation-rmse:42.91546\n",
            "[72]\ttrain-rmse:36.32468\tvalidation-rmse:42.90932\n",
            "[73]\ttrain-rmse:36.20292\tvalidation-rmse:42.83579\n",
            "[74]\ttrain-rmse:36.02914\tvalidation-rmse:42.85216\n",
            "[75]\ttrain-rmse:35.89192\tvalidation-rmse:42.76406\n",
            "[76]\ttrain-rmse:35.80479\tvalidation-rmse:42.71368\n",
            "[77]\ttrain-rmse:35.64712\tvalidation-rmse:42.70974\n",
            "[78]\ttrain-rmse:35.53764\tvalidation-rmse:42.64738\n",
            "[79]\ttrain-rmse:35.41914\tvalidation-rmse:42.58995\n",
            "[80]\ttrain-rmse:35.39863\tvalidation-rmse:42.57643\n",
            "[81]\ttrain-rmse:35.24921\tvalidation-rmse:42.61136\n",
            "[82]\ttrain-rmse:35.08280\tvalidation-rmse:42.63643\n",
            "[83]\ttrain-rmse:35.03146\tvalidation-rmse:42.62687\n",
            "[84]\ttrain-rmse:34.97621\tvalidation-rmse:42.62646\n",
            "[85]\ttrain-rmse:34.91024\tvalidation-rmse:42.63913\n",
            "[86]\ttrain-rmse:34.76122\tvalidation-rmse:42.69864\n",
            "[87]\ttrain-rmse:34.67262\tvalidation-rmse:42.73024\n",
            "[88]\ttrain-rmse:34.59787\tvalidation-rmse:42.74778\n",
            "[89]\ttrain-rmse:34.57828\tvalidation-rmse:42.74307\n",
            "[90]\ttrain-rmse:34.46470\tvalidation-rmse:42.83714\n",
            "[91]\ttrain-rmse:34.42750\tvalidation-rmse:42.82883\n",
            "[92]\ttrain-rmse:34.41311\tvalidation-rmse:42.81807\n",
            "[93]\ttrain-rmse:34.22986\tvalidation-rmse:42.81709\n",
            "[94]\ttrain-rmse:34.14767\tvalidation-rmse:42.75911\n",
            "[95]\ttrain-rmse:34.03151\tvalidation-rmse:42.67126\n",
            "[96]\ttrain-rmse:33.80775\tvalidation-rmse:42.70500\n",
            "[97]\ttrain-rmse:33.77780\tvalidation-rmse:42.68657\n",
            "[98]\ttrain-rmse:33.68691\tvalidation-rmse:42.63567\n",
            "[99]\ttrain-rmse:33.55800\tvalidation-rmse:42.65372\n"
          ]
        }
      ]
    }
  ]
}